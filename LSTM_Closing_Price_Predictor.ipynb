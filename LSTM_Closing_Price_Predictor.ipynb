{
  "nbformat": 4,
  "nbformat_minor": 0,
  "metadata": {
    "colab": {
      "name": "LSTM_Closing_Price_Predictor.ipynb",
      "provenance": [],
      "collapsed_sections": [],
      "include_colab_link": true
    },
    "kernelspec": {
      "name": "python3",
      "display_name": "Python 3"
    },
    "accelerator": "GPU"
  },
  "cells": [
    {
      "cell_type": "markdown",
      "metadata": {
        "id": "view-in-github",
        "colab_type": "text"
      },
      "source": [
        "<a href=\"https://colab.research.google.com/github/Delhi-Hacks-2020/Predictor/blob/master/LSTM_Closing_Price_Predictor.ipynb\" target=\"_parent\"><img src=\"https://colab.research.google.com/assets/colab-badge.svg\" alt=\"Open In Colab\"/></a>"
      ]
    },
    {
      "cell_type": "code",
      "metadata": {
        "id": "mJAud7z9rGQM",
        "colab_type": "code",
        "colab": {
          "base_uri": "https://localhost:8080/",
          "height": 72
        },
        "outputId": "f690f423-cfd3-403b-8793-20a5edc4576b"
      },
      "source": [
        "import tensorflow as tf\n",
        "import pandas as pd\n",
        "import seaborn as sns\n",
        "sns.set_style()"
      ],
      "execution_count": 64,
      "outputs": [
        {
          "output_type": "stream",
          "text": [
            "/usr/local/lib/python3.6/dist-packages/statsmodels/tools/_testing.py:19: FutureWarning: pandas.util.testing is deprecated. Use the functions in the public API at pandas.testing instead.\n",
            "  import pandas.util.testing as tm\n"
          ],
          "name": "stderr"
        }
      ]
    },
    {
      "cell_type": "code",
      "metadata": {
        "id": "cyDkEgiC5eRr",
        "colab_type": "code",
        "colab": {}
      },
      "source": [
        "df = pd.read_csv('Google.csv')"
      ],
      "execution_count": 43,
      "outputs": []
    },
    {
      "cell_type": "code",
      "metadata": {
        "id": "fQCXY1Yl6DGH",
        "colab_type": "code",
        "colab": {}
      },
      "source": [
        "df['Date'] = pd.to_datetime(df['Date'], dayfirst=True)\n",
        "df.set_index(\"Date\", drop=False, inplace=True)"
      ],
      "execution_count": 44,
      "outputs": []
    },
    {
      "cell_type": "code",
      "metadata": {
        "id": "XVchf71k6Kvb",
        "colab_type": "code",
        "colab": {}
      },
      "source": [
        "df  =df.iloc[::-1]"
      ],
      "execution_count": 45,
      "outputs": []
    },
    {
      "cell_type": "code",
      "metadata": {
        "id": "ndJv8b0y630b",
        "colab_type": "code",
        "colab": {}
      },
      "source": [
        "df.drop(labels=['Date'],axis =1, inplace=True)"
      ],
      "execution_count": 46,
      "outputs": []
    },
    {
      "cell_type": "code",
      "metadata": {
        "id": "w_DDHe8mB4Mx",
        "colab_type": "code",
        "colab": {
          "base_uri": "https://localhost:8080/",
          "height": 159
        },
        "outputId": "0fc67836-8af4-4934-b181-7f42b44c64c8"
      },
      "source": [
        "df = pd.DataFrame(df['Close'])\n",
        "series = df['Close']\n",
        "dates = series.index\n",
        "dates"
      ],
      "execution_count": 49,
      "outputs": [
        {
          "output_type": "execute_result",
          "data": {
            "text/plain": [
              "DatetimeIndex(['2019-12-31', '2019-12-30', '2019-12-27', '2019-12-26',\n",
              "               '2019-12-24', '2019-12-23', '2019-12-20', '2019-12-19',\n",
              "               '2019-12-18', '2019-12-17',\n",
              "               ...\n",
              "               '2009-01-15', '2009-01-14', '2009-01-13', '2009-01-12',\n",
              "               '2009-01-09', '2009-01-08', '2009-01-07', '2009-01-06',\n",
              "               '2009-01-05', '2009-01-02'],\n",
              "              dtype='datetime64[ns]', name='Date', length=2768, freq=None)"
            ]
          },
          "metadata": {
            "tags": []
          },
          "execution_count": 49
        }
      ]
    },
    {
      "cell_type": "code",
      "metadata": {
        "id": "dryoIu__7j-3",
        "colab_type": "code",
        "colab": {}
      },
      "source": [
        "import tensorflow as tf\n",
        "from sklearn.preprocessing import MinMaxScaler\n",
        "from tensorflow.keras.models import Sequential\n",
        "from tensorflow.keras.layers import Dense,LSTM, Dropout\n",
        "from tensorflow.keras.preprocessing.sequence import TimeseriesGenerator\n",
        "import numpy as np"
      ],
      "execution_count": 50,
      "outputs": []
    },
    {
      "cell_type": "code",
      "metadata": {
        "id": "KTo0WMV3Dn_U",
        "colab_type": "code",
        "colab": {}
      },
      "source": [
        "series = np.array(df['Close'])"
      ],
      "execution_count": 51,
      "outputs": []
    },
    {
      "cell_type": "code",
      "metadata": {
        "id": "GVbIOuvHC2WL",
        "colab_type": "code",
        "colab": {
          "base_uri": "https://localhost:8080/",
          "height": 428
        },
        "outputId": "d15194b7-1cc4-454d-f375-cda9cb101d06"
      },
      "source": [
        "minmax = MinMaxScaler().fit(series.reshape(-1,1)) # Close index\n",
        "series = minmax.transform(series.reshape(-1,1)) # Close index\n",
        "pd.DataFrame(series, index = dates)"
      ],
      "execution_count": 52,
      "outputs": [
        {
          "output_type": "execute_result",
          "data": {
            "text/html": [
              "<div>\n",
              "<style scoped>\n",
              "    .dataframe tbody tr th:only-of-type {\n",
              "        vertical-align: middle;\n",
              "    }\n",
              "\n",
              "    .dataframe tbody tr th {\n",
              "        vertical-align: top;\n",
              "    }\n",
              "\n",
              "    .dataframe thead th {\n",
              "        text-align: right;\n",
              "    }\n",
              "</style>\n",
              "<table border=\"1\" class=\"dataframe\">\n",
              "  <thead>\n",
              "    <tr style=\"text-align: right;\">\n",
              "      <th></th>\n",
              "      <th>0</th>\n",
              "    </tr>\n",
              "    <tr>\n",
              "      <th>Date</th>\n",
              "      <th></th>\n",
              "    </tr>\n",
              "  </thead>\n",
              "  <tbody>\n",
              "    <tr>\n",
              "      <th>2019-12-31</th>\n",
              "      <td>0.981097</td>\n",
              "    </tr>\n",
              "    <tr>\n",
              "      <th>2019-12-30</th>\n",
              "      <td>0.981359</td>\n",
              "    </tr>\n",
              "    <tr>\n",
              "      <th>2019-12-27</th>\n",
              "      <td>0.993587</td>\n",
              "    </tr>\n",
              "    <tr>\n",
              "      <th>2019-12-26</th>\n",
              "      <td>1.000000</td>\n",
              "    </tr>\n",
              "    <tr>\n",
              "      <th>2019-12-24</th>\n",
              "      <td>0.985225</td>\n",
              "    </tr>\n",
              "    <tr>\n",
              "      <th>...</th>\n",
              "      <td>...</td>\n",
              "    </tr>\n",
              "    <tr>\n",
              "      <th>2009-01-08</th>\n",
              "      <td>0.017397</td>\n",
              "    </tr>\n",
              "    <tr>\n",
              "      <th>2009-01-07</th>\n",
              "      <td>0.016094</td>\n",
              "    </tr>\n",
              "    <tr>\n",
              "      <th>2009-01-06</th>\n",
              "      <td>0.021033</td>\n",
              "    </tr>\n",
              "    <tr>\n",
              "      <th>2009-01-05</th>\n",
              "      <td>0.018570</td>\n",
              "    </tr>\n",
              "    <tr>\n",
              "      <th>2009-01-02</th>\n",
              "      <td>0.015811</td>\n",
              "    </tr>\n",
              "  </tbody>\n",
              "</table>\n",
              "<p>2768 rows × 1 columns</p>\n",
              "</div>"
            ],
            "text/plain": [
              "                   0\n",
              "Date                \n",
              "2019-12-31  0.981097\n",
              "2019-12-30  0.981359\n",
              "2019-12-27  0.993587\n",
              "2019-12-26  1.000000\n",
              "2019-12-24  0.985225\n",
              "...              ...\n",
              "2009-01-08  0.017397\n",
              "2009-01-07  0.016094\n",
              "2009-01-06  0.021033\n",
              "2009-01-05  0.018570\n",
              "2009-01-02  0.015811\n",
              "\n",
              "[2768 rows x 1 columns]"
            ]
          },
          "metadata": {
            "tags": []
          },
          "execution_count": 52
        }
      ]
    },
    {
      "cell_type": "code",
      "metadata": {
        "id": "Mumq-s0K7j01",
        "colab_type": "code",
        "colab": {}
      },
      "source": [
        "ser_lat = series\n",
        "y_test = series[-11:-1]\n",
        "series = series[:-11]"
      ],
      "execution_count": 53,
      "outputs": []
    },
    {
      "cell_type": "code",
      "metadata": {
        "id": "u_1vlPok7jro",
        "colab_type": "code",
        "colab": {}
      },
      "source": [
        "def split_sequence(sequence, n_steps_in, n_steps_out):\n",
        "    X, y = list(), list()\n",
        "    for i in range(len(sequence)):\n",
        "        end_ix = i + n_steps_in\n",
        "        out_end_ix = end_ix + n_steps_out\n",
        "        if out_end_ix > len(sequence):\n",
        "            break\n",
        "        seq_x, seq_y = sequence[i:end_ix], sequence[end_ix:out_end_ix]\n",
        "        X.append(seq_x)\n",
        "        y.append(seq_y)\n",
        "    return np.array(X), np.array(y)"
      ],
      "execution_count": 54,
      "outputs": []
    },
    {
      "cell_type": "code",
      "metadata": {
        "id": "Va9ruydUC_aL",
        "colab_type": "code",
        "colab": {
          "base_uri": "https://localhost:8080/",
          "height": 35
        },
        "outputId": "3effaf87-5c96-4afc-bf87-e38b35011d6b"
      },
      "source": [
        "TIME_STEPS = 10\n",
        "\n",
        "X, y = split_sequence(series, 20, TIME_STEPS)\n",
        "len(series)"
      ],
      "execution_count": 55,
      "outputs": [
        {
          "output_type": "execute_result",
          "data": {
            "text/plain": [
              "2757"
            ]
          },
          "metadata": {
            "tags": []
          },
          "execution_count": 55
        }
      ]
    },
    {
      "cell_type": "code",
      "metadata": {
        "id": "eA9EkFDg8C29",
        "colab_type": "code",
        "colab": {}
      },
      "source": [
        "\n",
        "outputs = []\n",
        "for _ in [TIME_STEPS]:\n",
        "  X, y = split_sequence(series, 20, TIME_STEPS)\n",
        "  n_input = TIME_STEPS\n",
        "  '''\n",
        "  generator = TimeseriesGenerator(series, series, length=n_input, batch_size=8)\n",
        "  for i in range(len(generator)):\n",
        "    x, y = generator[i]\n",
        "    print('%s => %s' % (x, y))\n",
        "  '''   \n",
        "  # define model\n",
        "  \n",
        "  model = Sequential([\n",
        "  tf.keras.layers.Bidirectional(LSTM(128,activation='tanh', return_sequences=True, input_shape=(n_input,1))),\n",
        "  tf.keras.layers.Bidirectional(LSTM(64, activation='tanh')),\n",
        "  Dense(10)\n",
        "  ])\n",
        "\n",
        "  model.compile(optimizer='adam', loss='mean_squared_error')\n",
        "\n",
        "  X = X.reshape((X.shape[0], X.shape[1], 1))\n",
        "    \n",
        "  model.fit(X,y, epochs=100, verbose=0)\n",
        "\n",
        "  # make a one step prediction out of sample\n",
        "  x_input = y_test.reshape((1, n_input,1))\n",
        "  yhat = model.predict(x_input, verbose=0)\n",
        "  outputs.append(yhat)\n"
      ],
      "execution_count": 57,
      "outputs": []
    },
    {
      "cell_type": "code",
      "metadata": {
        "id": "EpTPcNGcASvH",
        "colab_type": "code",
        "colab": {
          "base_uri": "https://localhost:8080/",
          "height": 52
        },
        "outputId": "49a15dbb-0986-447f-fd42-accfd761840a"
      },
      "source": [
        "outputs = minmax.inverse_transform(outputs[0])\n",
        "outputs"
      ],
      "execution_count": 58,
      "outputs": [
        {
          "output_type": "execute_result",
          "data": {
            "text/plain": [
              "array([[161.76494, 155.01945, 162.4566 , 161.8273 , 171.07565, 166.23907,\n",
              "        168.92407, 166.55835, 168.2572 , 169.49147]], dtype=float32)"
            ]
          },
          "metadata": {
            "tags": []
          },
          "execution_count": 58
        }
      ]
    },
    {
      "cell_type": "code",
      "metadata": {
        "id": "b5CyvGiAE-K5",
        "colab_type": "code",
        "colab": {}
      },
      "source": [
        "actual = minmax.inverse_transform(y_test.reshape(-1,1))"
      ],
      "execution_count": 60,
      "outputs": []
    },
    {
      "cell_type": "code",
      "metadata": {
        "id": "73DSNX6qdxd3",
        "colab_type": "code",
        "colab": {
          "base_uri": "https://localhost:8080/",
          "height": 265
        },
        "outputId": "4ef74d33-b083-446b-93d9-91324798461a"
      },
      "source": [
        "import matplotlib.pyplot as plt\n",
        "plt.plot(outputs[0],'b')\n",
        "plt.plot(actual,'g')\n",
        "plt.show()"
      ],
      "execution_count": 79,
      "outputs": [
        {
          "output_type": "display_data",
          "data": {
            "image/png": "[encoded data removed]",
            "text/plain": [
              "<Figure size 432x288 with 1 Axes>"
            ]
          },
          "metadata": {
            "tags": [],
            "needs_background": "light"
          }
        }
      ]
    },
    {
      "cell_type": "code",
      "metadata": {
        "id": "KtTcP6w8vap7",
        "colab_type": "code",
        "colab": {
          "base_uri": "https://localhost:8080/",
          "height": 35
        },
        "outputId": "9b3af8bb-ae78-4a92-e324-b9c681728345"
      },
      "source": [
        ""
      ],
      "execution_count": 78,
      "outputs": [
        {
          "output_type": "execute_result",
          "data": {
            "text/plain": [
              "(1, 10)"
            ]
          },
          "metadata": {
            "tags": []
          },
          "execution_count": 78
        }
      ]
    },
    {
      "cell_type": "code",
      "metadata": {
        "id": "Xu-tqtITJgFI",
        "colab_type": "code",
        "colab": {
          "base_uri": "https://localhost:8080/",
          "height": 161
        },
        "outputId": "abeb5838-dc37-4a68-d556-c2b36ad6f5b4"
      },
      "source": [
        "!mkdir -p saved_model\n",
        "model.save('saved_model/my_model')"
      ],
      "execution_count": 40,
      "outputs": [
        {
          "output_type": "stream",
          "text": [
            "WARNING:tensorflow:From /usr/local/lib/python3.6/dist-packages/tensorflow/python/training/tracking/tracking.py:111: Model.state_updates (from tensorflow.python.keras.engine.training) is deprecated and will be removed in a future version.\n",
            "Instructions for updating:\n",
            "This property should not be used in TensorFlow 2.0, as updates are applied automatically.\n",
            "WARNING:tensorflow:From /usr/local/lib/python3.6/dist-packages/tensorflow/python/training/tracking/tracking.py:111: Layer.updates (from tensorflow.python.keras.engine.base_layer) is deprecated and will be removed in a future version.\n",
            "Instructions for updating:\n",
            "This property should not be used in TensorFlow 2.0, as updates are applied automatically.\n",
            "INFO:tensorflow:Assets written to: saved_model/my_model/assets\n"
          ],
          "name": "stdout"
        }
      ]
    },
    {
      "cell_type": "code",
      "metadata": {
        "id": "IyJFVJ6BJjUO",
        "colab_type": "code",
        "colab": {}
      },
      "source": [
        ""
      ],
      "execution_count": null,
      "outputs": []
    }
  ]
}